{
 "cells": [
  {
   "cell_type": "code",
   "execution_count": 32,
   "metadata": {},
   "outputs": [],
   "source": [
    "import numpy as np\n",
    "\n",
    "def mean_absolute_error(list_of_predictions, list_of_actual_values):\n",
    "    \"\"\"\n",
    "    Calculates the mean absolute error of a list of predictions.\n",
    "    \"\"\"\n",
    "    return (np.abs(np.array(list_of_actual_values) - np.array(list_of_predictions))).mean()\n",
    "\n",
    "def predict_linear(x, m, b):\n",
    "    \"\"\"\n",
    "    Predicts the value of y given the value of x and the linear model.\n",
    "    \"\"\"\n",
    "    return m * x + b"
   ]
  },
  {
   "cell_type": "code",
   "execution_count": 33,
   "metadata": {},
   "outputs": [],
   "source": [
    "points =[[2, -2], [5, 6], [-4, -4], [-7, 1], [8, 14], [9, -5]]"
   ]
  },
  {
   "cell_type": "code",
   "execution_count": 34,
   "metadata": {},
   "outputs": [],
   "source": [
    "list_of_predictions=[]\n",
    "\n",
    "for i in points:\n",
    "    x=i[0]\n",
    "    y=i[1]\n",
    "    m=1.2\n",
    "    b=2\n",
    "    list_of_predictions.append(predict_linear(x, m, b))\n",
    "    "
   ]
  },
  {
   "cell_type": "code",
   "execution_count": 35,
   "metadata": {},
   "outputs": [
    {
     "name": "stdout",
     "output_type": "stream",
     "text": [
      "[4.4, 8.0, -2.8, -6.4, 11.6, 12.799999999999999]\n"
     ]
    }
   ],
   "source": [
    "print(list_of_predictions)"
   ]
  },
  {
   "cell_type": "code",
   "execution_count": 36,
   "metadata": {},
   "outputs": [
    {
     "name": "stdout",
     "output_type": "stream",
     "text": [
      "[-2, 6, -4, 1, 14, -5]\n"
     ]
    }
   ],
   "source": [
    "list_of_actual_values=[]\n",
    "\n",
    "for i in points:\n",
    "    list_of_actual_values.append(i[1])\n",
    "\n",
    "print(list_of_actual_values)\n"
   ]
  },
  {
   "cell_type": "code",
   "execution_count": 37,
   "metadata": {},
   "outputs": [
    {
     "data": {
      "text/plain": [
       "6.199999999999999"
      ]
     },
     "execution_count": 37,
     "metadata": {},
     "output_type": "execute_result"
    }
   ],
   "source": [
    "mean_absolute_error(list_of_predictions, list_of_actual_values)"
   ]
  },
  {
   "cell_type": "code",
   "execution_count": null,
   "metadata": {},
   "outputs": [],
   "source": []
  }
 ],
 "metadata": {
  "kernelspec": {
   "display_name": "Python 3.10.5 64-bit",
   "language": "python",
   "name": "python3"
  },
  "language_info": {
   "codemirror_mode": {
    "name": "ipython",
    "version": 3
   },
   "file_extension": ".py",
   "mimetype": "text/x-python",
   "name": "python",
   "nbconvert_exporter": "python",
   "pygments_lexer": "ipython3",
   "version": "3.10.5"
  },
  "orig_nbformat": 4,
  "vscode": {
   "interpreter": {
    "hash": "cdbe1079c9a872c26eed54440d89aaa21889cdb8b47e3a44ce6f348871418689"
   }
  }
 },
 "nbformat": 4,
 "nbformat_minor": 2
}
