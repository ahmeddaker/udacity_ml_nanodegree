{
 "cells": [
  {
   "cell_type": "code",
   "execution_count": 1,
   "id": "1e6c7383",
   "metadata": {},
   "outputs": [],
   "source": [
    "import pandas as pd"
   ]
  },
  {
   "cell_type": "code",
   "execution_count": 38,
   "id": "99163d8d",
   "metadata": {
    "scrolled": true
   },
   "outputs": [
    {
     "data": {
      "text/html": [
       "<div>\n",
       "<style scoped>\n",
       "    .dataframe tbody tr th:only-of-type {\n",
       "        vertical-align: middle;\n",
       "    }\n",
       "\n",
       "    .dataframe tbody tr th {\n",
       "        vertical-align: top;\n",
       "    }\n",
       "\n",
       "    .dataframe thead th {\n",
       "        text-align: right;\n",
       "    }\n",
       "</style>\n",
       "<table border=\"1\" class=\"dataframe\">\n",
       "  <thead>\n",
       "    <tr style=\"text-align: right;\">\n",
       "      <th></th>\n",
       "      <th>Species</th>\n",
       "      <th>Color</th>\n",
       "      <th>Length (mm)</th>\n",
       "    </tr>\n",
       "  </thead>\n",
       "  <tbody>\n",
       "    <tr>\n",
       "      <th>0</th>\n",
       "      <td>Mobug</td>\n",
       "      <td>Brown</td>\n",
       "      <td>11.6</td>\n",
       "    </tr>\n",
       "    <tr>\n",
       "      <th>1</th>\n",
       "      <td>Mobug</td>\n",
       "      <td>Blue</td>\n",
       "      <td>16.3</td>\n",
       "    </tr>\n",
       "    <tr>\n",
       "      <th>2</th>\n",
       "      <td>Lobug</td>\n",
       "      <td>Blue</td>\n",
       "      <td>15.1</td>\n",
       "    </tr>\n",
       "    <tr>\n",
       "      <th>3</th>\n",
       "      <td>Lobug</td>\n",
       "      <td>Green</td>\n",
       "      <td>23.7</td>\n",
       "    </tr>\n",
       "    <tr>\n",
       "      <th>4</th>\n",
       "      <td>Lobug</td>\n",
       "      <td>Blue</td>\n",
       "      <td>18.4</td>\n",
       "    </tr>\n",
       "  </tbody>\n",
       "</table>\n",
       "</div>"
      ],
      "text/plain": [
       "  Species  Color  Length (mm)\n",
       "0   Mobug  Brown         11.6\n",
       "1   Mobug   Blue         16.3\n",
       "2   Lobug   Blue         15.1\n",
       "3   Lobug  Green         23.7\n",
       "4   Lobug   Blue         18.4"
      ]
     },
     "execution_count": 38,
     "metadata": {},
     "output_type": "execute_result"
    }
   ],
   "source": [
    "df = pd.read_csv(\"ml-bugs.csv\")\n",
    "df.head()"
   ]
  },
  {
   "cell_type": "code",
   "execution_count": 70,
   "id": "d3f9586b",
   "metadata": {},
   "outputs": [],
   "source": [
    "def entropy(t):\n",
    "    s = sum(t)\n",
    "    x=0\n",
    "    import math as m\n",
    "    for i in t:\n",
    "        x -= (i/s) * m.log(i/s,2)\n",
    "    return x"
   ]
  },
  {
   "cell_type": "code",
   "execution_count": 28,
   "id": "e8ed9c87",
   "metadata": {},
   "outputs": [
    {
     "data": {
      "text/plain": [
       "Lobug    14\n",
       "Mobug    10\n",
       "Name: Species, dtype: int64"
      ]
     },
     "execution_count": 28,
     "metadata": {},
     "output_type": "execute_result"
    }
   ],
   "source": [
    "df.Species.value_counts()"
   ]
  },
  {
   "cell_type": "code",
   "execution_count": 68,
   "id": "90559f3f",
   "metadata": {},
   "outputs": [
    {
     "name": "stdout",
     "output_type": "stream",
     "text": [
      "0.9798687566511527\n"
     ]
    }
   ],
   "source": [
    "M = entropy([10,14])"
   ]
  },
  {
   "cell_type": "code",
   "execution_count": 60,
   "id": "fec58f0a",
   "metadata": {},
   "outputs": [
    {
     "name": "stdout",
     "output_type": "stream",
     "text": [
      "Species  Color\n",
      "Mobug    Brown    4\n",
      "Lobug    Brown    2\n",
      "dtype: int64 Species  Color\n",
      "Lobug    Blue     6\n",
      "Mobug    Blue     4\n",
      "dtype: int64 Species  Color\n",
      "Lobug    Green    6\n",
      "Mobug    Green    2\n",
      "dtype: int64 Species\n",
      "Mobug      9\n",
      "Lobug      8\n",
      "dtype: int64\n"
     ]
    }
   ],
   "source": [
    "print(df.drop('Length (mm)',axis = 1)[df.Color == \"Brown\"].value_counts(),\n",
    "df.drop('Length (mm)',axis = 1)[df.Color == \"Blue\"].value_counts(),\n",
    "df.drop('Length (mm)',axis = 1)[df.Color == \"Green\"].value_counts(),\n",
    "pd.DataFrame(df[df['Length (mm)'] < 20].drop(['Color','Length (mm)'], axis = 1)).value_counts())"
   ]
  },
  {
   "cell_type": "code",
   "execution_count": 75,
   "id": "7e5df2d4",
   "metadata": {
    "scrolled": true
   },
   "outputs": [
    {
     "data": {
      "text/plain": [
       "0.16859063219201986"
      ]
     },
     "execution_count": 75,
     "metadata": {},
     "output_type": "execute_result"
    }
   ],
   "source": [
    "M - entropy([6,2]) #green color"
   ]
  },
  {
   "cell_type": "code",
   "execution_count": 42,
   "id": "8f2f675e",
   "metadata": {},
   "outputs": [
    {
     "data": {
      "text/plain": [
       "Index(['Species', 'Color', 'Length (mm)'], dtype='object')"
      ]
     },
     "execution_count": 42,
     "metadata": {},
     "output_type": "execute_result"
    }
   ],
   "source": [
    "df.columns"
   ]
  }
 ],
 "metadata": {
  "kernelspec": {
   "display_name": "Python [conda env:.conda-udacity] *",
   "language": "python",
   "name": "conda-env-.conda-udacity-py"
  },
  "language_info": {
   "codemirror_mode": {
    "name": "ipython",
    "version": 3
   },
   "file_extension": ".py",
   "mimetype": "text/x-python",
   "name": "python",
   "nbconvert_exporter": "python",
   "pygments_lexer": "ipython3",
   "version": "3.8.12"
  }
 },
 "nbformat": 4,
 "nbformat_minor": 5
}
