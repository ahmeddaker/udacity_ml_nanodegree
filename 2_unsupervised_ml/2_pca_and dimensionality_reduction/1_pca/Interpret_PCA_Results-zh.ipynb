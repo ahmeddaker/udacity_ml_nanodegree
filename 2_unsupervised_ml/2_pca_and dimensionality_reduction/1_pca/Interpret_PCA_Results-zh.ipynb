{
 "cells": [
  {
   "cell_type": "markdown",
   "metadata": {},
   "source": [
    "### 轮到你了！\n",
    "\n",
    "在上一个视频中，你看到了主成分的两个主要方面：\n",
    "\n",
    "1. **成分捕获的变化量。**\n",
    "2. **成分本身。**\n",
    "\n",
    "在这个 notebook 中 你将有机会更深入地了解这些。首先，让我们先读入要用到的库和的数据。"
   ]
  },
  {
   "cell_type": "code",
   "execution_count": null,
   "metadata": {
    "collapsed": true
   },
   "outputs": [],
   "source": [
    "import pandas as pd\n",
    "import numpy as np\n",
    "from sklearn.decomposition import PCA\n",
    "from sklearn.preprocessing import StandardScaler\n",
    "from sklearn.ensemble import RandomForestClassifier\n",
    "from sklearn.model_selection import train_test_split\n",
    "from sklearn.metrics import confusion_matrix, accuracy_score\n",
    "from helper_functions import show_images, do_pca, scree_plot, plot_component\n",
    "import test_code as t\n",
    "\n",
    "import matplotlib.image as mpimg\n",
    "import matplotlib.pyplot as plt\n",
    "import seaborn as sns\n",
    "\n",
    "%matplotlib inline\n",
    "\n",
    "#read in our dataset\n",
    "train = pd.read_csv('./data/train.csv')\n",
    "train.fillna(0, inplace=True)\n",
    "\n",
    "# save the labels to a Pandas series target\n",
    "y = train['label']\n",
    "# Drop the label feature\n",
    "X = train.drop(\"label\",axis=1)\n",
    "\n",
    "show_images(30)"
   ]
  },
  {
   "cell_type": "markdown",
   "metadata": {},
   "source": [
    "`1.` 在 X 矩阵上执行 PCA，你可以自己实现，也可以使用 helper_functions 模块中的 do_pca 函数。将原来的 700 多个特征减少到只有10个主成分。"
   ]
  },
  {
   "cell_type": "code",
   "execution_count": null,
   "metadata": {
    "collapsed": true
   },
   "outputs": [],
   "source": [
    "# Make sure to keep track of the resulting components and the pca object\n",
    "do_pca?"
   ]
  },
  {
   "cell_type": "markdown",
   "metadata": {
    "collapsed": true
   },
   "source": [
    "`2.` 现在使用 **helper_functions** 模块中的 **scree_plot** 函数来仔细查看你的分析结果。"
   ]
  },
  {
   "cell_type": "code",
   "execution_count": null,
   "metadata": {
    "collapsed": true
   },
   "outputs": [],
   "source": [
    "scree_plot? #Use the scree plot to answer the next question"
   ]
  },
  {
   "cell_type": "markdown",
   "metadata": {},
   "source": [
    "`3.` 使用碎石图的结果，将每个字母变量的值与 **solution_three** 字典中的正确键进行匹配。当你准备检查你的答案时，运行下一个单元格，看看你的解决方案是否与我们相匹配。"
   ]
  },
  {
   "cell_type": "code",
   "execution_count": null,
   "metadata": {
    "collapsed": true
   },
   "outputs": [],
   "source": [
    "a = True\n",
    "b = False\n",
    "c = 6.13\n",
    "d = 'The total amount of variability in the data explained by the first two principal components'\n",
    "e = None\n",
    "\n",
    "solution_three = {\n",
    "    '10.42' : #letter, \n",
    "    'The first component will ALWAYS have the most amount of variability explained.': #letter,\n",
    "    'The total amount of variability in the data explained by the first component': #letter,\n",
    "    'The sum of the variability explained by all the components can be greater than 100%': #letter\n",
    "}"
   ]
  },
  {
   "cell_type": "code",
   "execution_count": null,
   "metadata": {
    "collapsed": true
   },
   "outputs": [],
   "source": [
    "#Run this cell to see if your solution matches ours\n",
    "t.question_3_check(solution_three)"
   ]
  },
  {
   "cell_type": "markdown",
   "metadata": {},
   "source": [
    "`4.` 使用 helper_functions 模块中的 plot_component 函数查看每个成分（记住是从 0 索引的）。使用结果帮助回答问题5。"
   ]
  },
  {
   "cell_type": "code",
   "execution_count": null,
   "metadata": {
    "collapsed": true
   },
   "outputs": [],
   "source": [
    "# Use the images of the component weights to answer the next question\n",
    "plot_component? "
   ]
  },
  {
   "cell_type": "markdown",
   "metadata": {},
   "source": [
    "`5.` 使用问题 4 中每个主成分权重的结果，将 **solution_five** 字典的键值更改为与描述最匹配的主成分的**索引编号**。当你准备检查你的答案时，运行下一个单元格，看看你的解决方案是否与我们的匹配"
   ]
  },
  {
   "cell_type": "code",
   "execution_count": null,
   "metadata": {
    "collapsed": true
   },
   "outputs": [],
   "source": [
    "solution_five = {\n",
    "    'This component looks like it will assist in identifying zero': #number 0-9,\n",
    "    'This component looks like it will assist in identifying three': #number 0-9\n",
    "}"
   ]
  },
  {
   "cell_type": "code",
   "execution_count": null,
   "metadata": {
    "collapsed": true
   },
   "outputs": [],
   "source": [
    "#Run this cell to see if your solution matches ours\n",
    "t.question_5_check(solution_five)"
   ]
  },
  {
   "cell_type": "markdown",
   "metadata": {},
   "source": [
    "从这个 notebook 中，你有机会了解 PCA 的两个主要部分：\n",
    "\n",
    "`I.` 每个成分解释的**变化量**，这称为**特征值**。\n",
    "\n",
    "`II.` 主成分本身，每个成分都是一个权重向量。在这种情况下，主成分帮助我们了解图像的哪些像素最有助于识别数字之间的差异。**主成分**也被称为**特征向量**。"
   ]
  },
  {
   "cell_type": "code",
   "execution_count": null,
   "metadata": {
    "collapsed": true
   },
   "outputs": [],
   "source": []
  }
 ],
 "metadata": {
  "anaconda-cloud": {},
  "hide_input": false,
  "kernelspec": {
   "display_name": "Python 3",
   "language": "python",
   "name": "python3"
  },
  "language_info": {
   "codemirror_mode": {
    "name": "ipython",
    "version": 3
   },
   "file_extension": ".py",
   "mimetype": "text/x-python",
   "name": "python",
   "nbconvert_exporter": "python",
   "pygments_lexer": "ipython3",
   "version": "3.6.3"
  },
  "latex_envs": {
   "LaTeX_envs_menu_present": true,
   "autoclose": false,
   "autocomplete": true,
   "bibliofile": "biblio.bib",
   "cite_by": "apalike",
   "current_citInitial": 1,
   "eqLabelWithNumbers": true,
   "eqNumInitial": 1,
   "hotkeys": {
    "equation": "Ctrl-E",
    "itemize": "Ctrl-I"
   },
   "labels_anchors": false,
   "latex_user_defs": false,
   "report_style_numbering": false,
   "user_envs_cfg": false
  },
  "toc": {
   "base_numbering": 1,
   "nav_menu": {},
   "number_sections": true,
   "sideBar": true,
   "skip_h1_title": false,
   "title_cell": "Table of Contents",
   "title_sidebar": "Contents",
   "toc_cell": false,
   "toc_position": {},
   "toc_section_display": true,
   "toc_window_display": false
  },
  "varInspector": {
   "cols": {
    "lenName": 16,
    "lenType": 16,
    "lenVar": 40
   },
   "kernels_config": {
    "python": {
     "delete_cmd_postfix": "",
     "delete_cmd_prefix": "del ",
     "library": "var_list.py",
     "varRefreshCmd": "print(var_dic_list())"
    },
    "r": {
     "delete_cmd_postfix": ") ",
     "delete_cmd_prefix": "rm(",
     "library": "var_list.r",
     "varRefreshCmd": "cat(var_dic_list()) "
    }
   },
   "types_to_exclude": [
    "module",
    "function",
    "builtin_function_or_method",
    "instance",
    "_Feature"
   ],
   "window_display": false
  }
 },
 "nbformat": 4,
 "nbformat_minor": 2
}
