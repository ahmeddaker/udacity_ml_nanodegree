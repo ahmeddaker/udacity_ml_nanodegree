{
 "cells": [
  {
   "cell_type": "markdown",
   "metadata": {},
   "source": [
    "### 该你了\n",
    "\n",
    "在上一个视频中，你看到了使用 MNIST 数据集中的数字的示例。可以在这里找到该数据集的链接： http://yann.lecun.com/exdb/mnist/.\n",
    "\n",
    "首先，我们先要加载一些要用到的库。注意，还有一些库来自名为 `helper_functions` 的文件，该文件包含上一个视频中使用的函数。"
   ]
  },
  {
   "cell_type": "code",
   "execution_count": null,
   "metadata": {
    "collapsed": true
   },
   "outputs": [],
   "source": [
    "import pandas as pd\n",
    "import numpy as np\n",
    "from sklearn.decomposition import PCA\n",
    "from sklearn.preprocessing import StandardScaler\n",
    "from sklearn.ensemble import RandomForestClassifier\n",
    "from sklearn.model_selection import train_test_split\n",
    "from sklearn.metrics import confusion_matrix, accuracy_score\n",
    "from helper_functions import show_images, show_images_by_digit, fit_random_forest_classifier2 \n",
    "from helper_functions import fit_random_forest_classifier, do_pca, plot_components\n",
    "import test_code as t\n",
    "\n",
    "import matplotlib.image as mpimg\n",
    "import matplotlib.pyplot as plt\n",
    "import seaborn as sns\n",
    "\n",
    "%matplotlib inline"
   ]
  },
  {
   "cell_type": "markdown",
   "metadata": {},
   "source": [
    "`1.` 使用 pandas 来读取数据集，可在以下地址找到数据文件 **'./data/train.csv'**。 使用\n",
    " `head` 、`tail`、`describe`、`info` 等命令来查看数据。你可以从以下文章中了解有关像素值的更多信息：\n",
    "https://homepages.inf.ed.ac.uk/rbf/HIPR2/value.htm."
   ]
  },
  {
   "cell_type": "code",
   "execution_count": null,
   "metadata": {
    "collapsed": true
   },
   "outputs": [],
   "source": []
  },
  {
   "cell_type": "markdown",
   "metadata": {},
   "source": [
    "`2.` 创建一个名为 y 的向量，用于保存数据集的标签列。将保存有图像像素数据的所有其他列存储在向量 x 中。"
   ]
  },
  {
   "cell_type": "code",
   "execution_count": null,
   "metadata": {
    "collapsed": true
   },
   "outputs": [],
   "source": []
  },
  {
   "cell_type": "code",
   "execution_count": null,
   "metadata": {
    "collapsed": true
   },
   "outputs": [],
   "source": [
    "#Check Your Solution \n",
    "t.question_two_check(y, X)"
   ]
  },
  {
   "cell_type": "markdown",
   "metadata": {},
   "source": [
    "`3.` 现在，使用 `helper_functions` 模块中的 `show_images_by_digit` 函数来查看`第一`、`第二`、`第三`或任何其他你感兴趣的值。他们看起来都像你期望的那样吗？"
   ]
  },
  {
   "cell_type": "code",
   "execution_count": null,
   "metadata": {
    "collapsed": true
   },
   "outputs": [],
   "source": [
    "show_images_by_digit(2) # Try looking at a few other digits"
   ]
  },
  {
   "cell_type": "markdown",
   "metadata": {},
   "source": [
    "`4.` 现在我们有机会查看这些数据，你可以尝试一些不同的算法，看看用这个x矩阵做预测的响应效果如何。如果你想使用我在视频中使用的随机森林相关的函数，你可以运行下面的代码，但是你也可以尝试在上一个课程中学习的任何监督学习的技术，看看哪个最有效。\n",
    "\n",
    "如果你决定组装自己的分类器，请记住此过程的4个步骤：\n",
    "\n",
    "**I.** 实例化你的模型。（使用你感兴趣的所有超参数值）\n",
    "\n",
    "**II.** 拟合你的模型。（在训练集数据上）\n",
    "\n",
    "**III.** 用拟合好的模型进行预测（在测试集数据上）\n",
    "\n",
    "**IV.** 评估你的模型。（将预测值与测试数据的实际标签值进行比较）\n",
    "\n",
    "你还可以尝试网格搜索，看看是否可以改进最初的预测。"
   ]
  },
  {
   "cell_type": "code",
   "execution_count": null,
   "metadata": {
    "collapsed": true
   },
   "outputs": [],
   "source": [
    "# Remove the tag to fit the RF model from the video, you can also try fitting your own!\n",
    "# fit_random_forest_classifier(X, y)"
   ]
  },
  {
   "cell_type": "markdown",
   "metadata": {},
   "source": [
    "`5.` 现在来到这节课的主题，PCA。在视频中，我仅使用两个特征来创建了一个模型。复制下面的过程。 你可以使用上一个视频中创建的 `do-pca` 函数。将变量存储在**pca**和**X_pca**中。"
   ]
  },
  {
   "cell_type": "code",
   "execution_count": null,
   "metadata": {
    "collapsed": true
   },
   "outputs": [],
   "source": [
    "do_pca?"
   ]
  },
  {
   "cell_type": "markdown",
   "metadata": {},
   "source": [
    "`6.` 这个**X_pca**将原来的700多个特征减少到只有两个特征，它们捕获了像素值的大部分变化。  使用下面的单元格来拟合模型，使用这两个特征来预测手写数字的值。 你可以使用随机林模型，方法与在视频中一样，运行 `fit_random_forest_classifier`。它的性能如何？"
   ]
  },
  {
   "cell_type": "code",
   "execution_count": null,
   "metadata": {
    "collapsed": true
   },
   "outputs": [],
   "source": [
    "fit_random_forest_classifier?"
   ]
  },
  {
   "cell_type": "markdown",
   "metadata": {},
   "source": [
    "`7.` 现在，你可以使用 `plot_components` 函数查看这些数值的分离效果如何。如果你画出所有的点（超过40000点），你很可能看不到正在发生的事情。  我建议只绘制数据的一个子集。基于这两个特征，哪个值比其他值具有更好的预测间隔？"
   ]
  },
  {
   "cell_type": "code",
   "execution_count": null,
   "metadata": {
    "collapsed": true
   },
   "outputs": [],
   "source": [
    "# Try plotting some of the numbers below - you can change the number\n",
    "# of digits that are plotted, but it is probably best not to plot the \n",
    "# entire dataset.  Your visual will not be readable.\n",
    "\n",
    "# plot_components(X_pca[:100], y[:100])"
   ]
  },
  {
   "cell_type": "markdown",
   "metadata": {},
   "source": [
    "`8.` 看看我们是否可以找到较少的特征数量，但仍能提供更好的分离来进行预测。假设你想让分离得到超过 90% 的准确度，那么至少需要多少个主成分来获得这种准确度？你是否能够大幅减少最终模型的特征数量？"
   ]
  },
  {
   "cell_type": "code",
   "execution_count": null,
   "metadata": {
    "collapsed": true
   },
   "outputs": [],
   "source": []
  },
  {
   "cell_type": "markdown",
   "metadata": {},
   "source": [
    "`9.` 这个数据集中的额外的特征实际上可能会导致过拟合或[维度灾难]。(https://stats.stackexchange.com/questions/65379/machine-learning-curse-of-dimensionality-explained). 你有这个数据集发生这种情况的证据吗？你能用直接观察或表格来支持你的证据吗？为了避免打印出所有指标结果，我创建了另一个名为 `fit_random_forest_classifier2` 的函数。我浏览了大量特征以创建可视化的解决方案，但我强烈建议你查看数量在100个以下的主成分！"
   ]
  },
  {
   "cell_type": "code",
   "execution_count": null,
   "metadata": {
    "collapsed": true
   },
   "outputs": [],
   "source": []
  },
  {
   "cell_type": "code",
   "execution_count": null,
   "metadata": {
    "collapsed": true
   },
   "outputs": [],
   "source": []
  },
  {
   "cell_type": "code",
   "execution_count": null,
   "metadata": {
    "collapsed": true
   },
   "outputs": [],
   "source": []
  },
  {
   "cell_type": "markdown",
   "metadata": {},
   "source": [
    " "
   ]
  },
  {
   "cell_type": "code",
   "execution_count": null,
   "metadata": {
    "collapsed": true
   },
   "outputs": [],
   "source": []
  }
 ],
 "metadata": {
  "anaconda-cloud": {},
  "hide_input": false,
  "kernelspec": {
   "display_name": "Python 3",
   "language": "python",
   "name": "python3"
  },
  "language_info": {
   "codemirror_mode": {
    "name": "ipython",
    "version": 3
   },
   "file_extension": ".py",
   "mimetype": "text/x-python",
   "name": "python",
   "nbconvert_exporter": "python",
   "pygments_lexer": "ipython3",
   "version": "3.6.3"
  },
  "latex_envs": {
   "LaTeX_envs_menu_present": true,
   "autoclose": false,
   "autocomplete": true,
   "bibliofile": "biblio.bib",
   "cite_by": "apalike",
   "current_citInitial": 1,
   "eqLabelWithNumbers": true,
   "eqNumInitial": 1,
   "hotkeys": {
    "equation": "Ctrl-E",
    "itemize": "Ctrl-I"
   },
   "labels_anchors": false,
   "latex_user_defs": false,
   "report_style_numbering": false,
   "user_envs_cfg": false
  },
  "toc": {
   "base_numbering": 1,
   "nav_menu": {},
   "number_sections": true,
   "sideBar": true,
   "skip_h1_title": false,
   "title_cell": "Table of Contents",
   "title_sidebar": "Contents",
   "toc_cell": false,
   "toc_position": {},
   "toc_section_display": true,
   "toc_window_display": false
  },
  "varInspector": {
   "cols": {
    "lenName": 16,
    "lenType": 16,
    "lenVar": 40
   },
   "kernels_config": {
    "python": {
     "delete_cmd_postfix": "",
     "delete_cmd_prefix": "del ",
     "library": "var_list.py",
     "varRefreshCmd": "print(var_dic_list())"
    },
    "r": {
     "delete_cmd_postfix": ") ",
     "delete_cmd_prefix": "rm(",
     "library": "var_list.r",
     "varRefreshCmd": "cat(var_dic_list()) "
    }
   },
   "types_to_exclude": [
    "module",
    "function",
    "builtin_function_or_method",
    "instance",
    "_Feature"
   ],
   "window_display": false
  }
 },
 "nbformat": 4,
 "nbformat_minor": 2
}
